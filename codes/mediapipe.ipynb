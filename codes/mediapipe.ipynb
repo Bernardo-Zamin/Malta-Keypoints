{
 "cells": [
  {
   "cell_type": "code",
   "execution_count": 1,
   "metadata": {
    "metadata": {}
   },
   "outputs": [],
   "source": [
    "import os\n",
    "import cv2\n",
    "import numpy as np\n",
    "import mediapipe as mp \n",
    "from mediapipe.tasks import python\n",
    "from mediapipe.tasks.python import vision\n",
    "import pandas as pd\n",
    "import matplotlib.pyplot as plt"
   ]
  },
  {
   "cell_type": "code",
   "execution_count": 2,
   "metadata": {
    "metadata": {}
   },
   "outputs": [],
   "source": [
    "video_path = '/B/zamin/MINDS/Sinalizador01/Canon/01AcontecerSinalizador01-1.mp4'\n",
    "model_path = '/B/zamin/MINDS/hand_landmarker.task'"
   ]
  },
  {
   "cell_type": "code",
   "execution_count": 1,
   "metadata": {
    "metadata": {}
   },
   "outputs": [
    {
     "name": "stdout",
     "output_type": "stream",
     "text": [
      "Erro ao abrir o arquivo de vídeo\n"
     ]
    },
    {
     "name": "stderr",
     "output_type": "stream",
     "text": [
      "WARNING: All log messages before absl::InitializeLog() is called are written to STDERR\n",
      "I0000 00:00:1717539857.016740 3547416 gl_context.cc:357] GL version: 2.1 (2.1 Metal - 88), renderer: Apple M2\n",
      "[mov,mp4,m4a,3gp,3g2,mj2 @ 0x30715fe20] moov atom not found\n",
      "INFO: Created TensorFlow Lite XNNPACK delegate for CPU.\n",
      "W0000 00:00:1717539857.043140 3547657 inference_feedback_manager.cc:114] Feedback manager requires a model with a single signature inference. Disabling support for feedback tensors.\n",
      "OpenCV: Couldn't read video stream from file \"01AcontecerSinalizador01-1.mp4\"\n",
      "W0000 00:00:1717539857.048725 3547657 inference_feedback_manager.cc:114] Feedback manager requires a model with a single signature inference. Disabling support for feedback tensors.\n"
     ]
    }
   ],
   "source": [
    "import cv2\n",
    "import mediapipe as mp\n",
    "import matplotlib.pyplot as plt\n",
    "\n",
    "\n",
    "mp_hands = mp.solutions.hands\n",
    "hands = mp_hands.Hands(\n",
    "    static_image_mode=False,\n",
    "    max_num_hands=2,\n",
    "    min_detection_confidence=0.1,\n",
    "    min_tracking_confidence=0.1\n",
    ")\n",
    "\n",
    "\n",
    "def draw_landmarks(frame, hand_landmarks):\n",
    "    if hand_landmarks:\n",
    "        for landmarks in hand_landmarks:\n",
    "            mp.solutions.drawing_utils.draw_landmarks(\n",
    "                frame,\n",
    "                landmarks,\n",
    "                mp_hands.HAND_CONNECTIONS,\n",
    "                mp.solutions.drawing_styles.get_default_hand_landmarks_style(),\n",
    "                mp.solutions.drawing_styles.get_default_hand_connections_style()\n",
    "            )\n",
    "    return frame\n",
    "\n",
    "\n",
    "# substituir pelo caminho do seu video\n",
    "video_path = '/B/zamin/MINDS/Sinalizador09/Canon/01AcontecerSinalizador09-1.mp4'\n",
    "cap = cv2.VideoCapture(video_path)\n",
    "\n",
    "\n",
    "if not cap.isOpened():\n",
    "    print(\"Erro ao abrir o arquivo de vídeo\")\n",
    "else:\n",
    "\n",
    "    total_frames = int(cap.get(cv2.CAP_PROP_FRAME_COUNT))\n",
    "\n",
    "    cap.set(cv2.CAP_PROP_POS_FRAMES, total_frames // 2)\n",
    "\n",
    "    success, frame = cap.read()\n",
    "\n",
    "    if success:\n",
    "\n",
    "        results = hands.process(cv2.cvtColor(frame, cv2.COLOR_BGR2RGB))\n",
    "\n",
    "        frame_with_landmarks = draw_landmarks(\n",
    "            frame, results.multi_hand_landmarks)\n",
    "\n",
    "        frame_with_landmarks = cv2.cvtColor(\n",
    "            frame_with_landmarks, cv2.COLOR_BGR2RGB)\n",
    "\n",
    "        plt.figure(figsize=(10, 10))\n",
    "        plt.imshow(frame_with_landmarks)\n",
    "        plt.axis('off')\n",
    "        plt.show()\n",
    "    else:\n",
    "        print(\"Erro ao ler o frame do vídeo\")\n",
    "\n",
    "    cap.release()\n",
    "hands.close()"
   ]
  },
  {
   "cell_type": "code",
   "execution_count": null,
   "metadata": {},
   "outputs": [],
   "source": []
  },
  {
   "cell_type": "code",
   "execution_count": null,
   "metadata": {},
   "outputs": [],
   "source": []
  }
 ],
 "metadata": {
  "kernelspec": {
   "display_name": "keypoints",
   "language": "python",
   "name": "python3"
  },
  "language_info": {
   "codemirror_mode": {
    "name": "ipython",
    "version": 3
   },
   "file_extension": ".py",
   "mimetype": "text/x-python",
   "name": "python",
   "nbconvert_exporter": "python",
   "pygments_lexer": "ipython3",
   "version": "3.11.5"
  }
 },
 "nbformat": 4,
 "nbformat_minor": 2
}
